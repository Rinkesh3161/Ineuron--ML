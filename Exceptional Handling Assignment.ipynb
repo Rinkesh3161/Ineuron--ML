{
 "cells": [
  {
   "cell_type": "markdown",
   "metadata": {},
   "source": [
    "# Python Assignment No : Exceptional handling assingment- 5\n",
    "# Name : Rinkesh Vamja \n",
    "# Batch : 28th March 2020 - ML\n",
    "# Email Address : rinkeshvamja2305@hotmail.com"
   ]
  },
  {
   "cell_type": "code",
   "execution_count": null,
   "metadata": {},
   "outputs": [],
   "source": []
  },
  {
   "cell_type": "markdown",
   "metadata": {},
   "source": [
    "### 1) Write a function to compute 5/0 and use try/except to catch the exceptions."
   ]
  },
  {
   "cell_type": "code",
   "execution_count": 18,
   "metadata": {},
   "outputs": [
    {
     "name": "stdout",
     "output_type": "stream",
     "text": [
      "This is invalid opration because 5 is not devided by 0------>\n"
     ]
    }
   ],
   "source": [
    "def divide_five():\n",
    "    return 5/0\n",
    "\n",
    "try:\n",
    "    divide_five()\n",
    "    print(\"This is working function\")\n",
    "except Exception as e:\n",
    "    print(\"This is invalid opration because 5 is not devided by 0------>\")\n",
    "# finally:\n",
    "#     print(\"Welcome to the Finally block we are happy to help you out....!\")\n",
    "#     try:\n",
    "#         divide_five()\n",
    "#     except:\n",
    "#         print(\"the operation is not performed------->\")"
   ]
  },
  {
   "cell_type": "code",
   "execution_count": null,
   "metadata": {},
   "outputs": [],
   "source": []
  },
  {
   "cell_type": "markdown",
   "metadata": {},
   "source": [
    "### 2) Implement a Python program to generate all sentences where subject is in [\"Americans\", \"Indians\"] and verb is in [\"Play\", \"watch\"] and the object is in[\"Baseball\",\"cricket\"]."
   ]
  },
  {
   "cell_type": "code",
   "execution_count": 43,
   "metadata": {},
   "outputs": [
    {
     "name": "stdout",
     "output_type": "stream",
     "text": [
      "Americans play Baseball.\n",
      "Americans play Cricket.\n",
      "Americans watch Baseball.\n",
      "Americans watch Cricket.\n",
      "Indians play Baseball.\n",
      "Indians play Cricket.\n",
      "Indians watch Baseball.\n",
      "Indians watch Cricket.\n"
     ]
    }
   ],
   "source": [
    "subjects = [\"Americans\",\"Indians\"]\n",
    "verbs= [\"play\",\"watch\"]\n",
    "objects = [\"Baseball\",\"Cricket\"]\n",
    "\n",
    "########## Using nested for loop ############\n",
    "# for i in subjects:\n",
    "#     #print(i)\n",
    "#     for j in verbs:\n",
    "#         #print(j)\n",
    "#         for k in objects:\n",
    "#             print(i+\" \"+j+\" \"+k+\".\")\n",
    "\n",
    "######### Using list comprehensive ##########\n",
    "sentence_list = [(i+\" \"+j+\" \"+k+\".\")for i in subjects for j in verbs for k in objects]\n",
    "for output in sentence_list:\n",
    "    print(output)\n",
    "\n"
   ]
  },
  {
   "cell_type": "code",
   "execution_count": null,
   "metadata": {},
   "outputs": [],
   "source": []
  }
 ],
 "metadata": {
  "kernelspec": {
   "display_name": "Python 3",
   "language": "python",
   "name": "python3"
  },
  "language_info": {
   "codemirror_mode": {
    "name": "ipython",
    "version": 3
   },
   "file_extension": ".py",
   "mimetype": "text/x-python",
   "name": "python",
   "nbconvert_exporter": "python",
   "pygments_lexer": "ipython3",
   "version": "3.7.6"
  }
 },
 "nbformat": 4,
 "nbformat_minor": 4
}
