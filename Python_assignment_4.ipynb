{
 "cells": [
  {
   "cell_type": "markdown",
   "metadata": {},
   "source": [
    "# Python Assignment No : 4\n",
    "# Name : Rinkesh Vamja \n",
    "# Batch : 28th March 2020 - ML\n",
    "# Email Address : rinkeshvamja2305@hotmail.com"
   ]
  },
  {
   "cell_type": "markdown",
   "metadata": {},
   "source": []
  },
  {
   "cell_type": "markdown",
   "metadata": {},
   "source": [
    "1.1 Write a Python Program(with class concepts) to find the area of the triangle using the below formula. \n",
    "Area = (s*(s-a)*(s-b)*(s-c)) ** 0.5\n",
    "Function to take the length of the sides of triangle from user should be defined in the parent class and function to calculate the area should be defined in subclass."
   ]
  },
  {
   "cell_type": "code",
   "execution_count": 3,
   "metadata": {},
   "outputs": [
    {
     "name": "stdout",
     "output_type": "stream",
     "text": [
      "Please Enter length of first side of a triangle:-->4\n",
      "Please Enter length of second side of a triangle:-->5\n",
      "Please Enter length of third side of a triangle:-->6\n",
      "Final Area of Triangle is:-->9.921567416492215\n"
     ]
    }
   ],
   "source": [
    "class P_Class:\n",
    "    def getlengthtriangle(self):\n",
    "        values = [\"first\", \"second\", \"third\"]\n",
    "        sides = []\n",
    "        for index in values :\n",
    "            inputValue = input(\"Please Enter length of {} side of a triangle:-->\".format(index))\n",
    "            sides.append(inputValue)\n",
    "        return sides\n",
    "\n",
    "class ChildClass(P_Class):\n",
    "    def getAreaOfTriangle(self, lengthOfSideOfTriangle):\n",
    "        a = int(lengthOfSideOfTriangle[0])\n",
    "        b = int(lengthOfSideOfTriangle[1])\n",
    "        c = int(lengthOfSideOfTriangle[2])\n",
    "        \n",
    "        s = (a + b + c)/2\n",
    "        \n",
    "        area = (s*(s-a)*(s-b)*(s-c)) ** 0.5\n",
    "        print(\"Final Area of Triangle is:-->{}\".format(area))\n",
    "childclass = ChildClass()\n",
    "side_inputs = childclass.getlengthtriangle()\n",
    "childclass.getAreaOfTriangle(side_inputs)"
   ]
  },
  {
   "cell_type": "markdown",
   "metadata": {},
   "source": [
    " "
   ]
  },
  {
   "cell_type": "markdown",
   "metadata": {},
   "source": []
  },
  {
   "cell_type": "markdown",
   "metadata": {},
   "source": [
    "1.2 Write a function filter_long_words() that takes a list of words and an integer n and returns\n",
    "the list of words that are longer than n."
   ]
  },
  {
   "cell_type": "code",
   "execution_count": 4,
   "metadata": {},
   "outputs": [
    {
     "name": "stdout",
     "output_type": "stream",
     "text": [
      "Logest word in the list is:---> the fault in our star\n"
     ]
    }
   ],
   "source": [
    "def logestword(wordlist):\n",
    "    longest = \" \"\n",
    "    for i in wordlist:\n",
    "        if len(i)>len(longest):\n",
    "            longest = i\n",
    "    return longest\n",
    "\n",
    "wordlist=[\"surat\",\"rinkesh\",\"vamja\",\"the fault in our star\"]\n",
    "longest = logestword(wordlist)\n",
    "print(\"Logest word in the list is:---> \"+longest)"
   ]
  },
  {
   "cell_type": "code",
   "execution_count": null,
   "metadata": {},
   "outputs": [],
   "source": []
  },
  {
   "cell_type": "markdown",
   "metadata": {},
   "source": [
    "2.1 Write a Python program using function concept that maps list of words into a list of integers\n",
    "representing the lengths of the corresponding words.\n",
    "Hint: If a list [ ab,cde,erty] is passed on to the python function output should come as [2,3,4]\n",
    "Here 2,3 and 4 are the lengths of the words in the list."
   ]
  },
  {
   "cell_type": "code",
   "execution_count": 2,
   "metadata": {},
   "outputs": [
    {
     "name": "stdout",
     "output_type": "stream",
     "text": [
      "word length of list:--->[5, 5, 2]\n"
     ]
    }
   ],
   "source": [
    "input_lst = [\"fhjjh\",\"djskk\",\"ff\"]\n",
    "\n",
    "def countlengthoflist(input_lst):\n",
    "    return list(map(lambda x: len(x),input_lst))\n",
    "\n",
    "print(\"word length of list:--->\" +str(countlengthoflist(input_lst)) )"
   ]
  },
  {
   "cell_type": "code",
   "execution_count": null,
   "metadata": {},
   "outputs": [],
   "source": []
  },
  {
   "cell_type": "markdown",
   "metadata": {},
   "source": [
    "2.2 Write a Python function which takes a character (i.e. a string of length 1) and returns True if\n",
    "it is a vowel, False otherwise."
   ]
  },
  {
   "cell_type": "code",
   "execution_count": 20,
   "metadata": {},
   "outputs": [
    {
     "name": "stdout",
     "output_type": "stream",
     "text": [
      "Enter character:---->a\n",
      "a is a vowel character\n"
     ]
    }
   ],
   "source": [
    "char = input(\"Enter character:---->\")\n",
    "\n",
    "if (vowelchecker(char)):\n",
    "    print(char +\" is a vowel character\")\n",
    "else:\n",
    "    print(\"Please Enter valid vowel character:--->\")\n",
    "    \n",
    "def vowelchecker(char):\n",
    "    if(char == 'a' or char == 'e' or char == 'i' or char == 'o'or char == 'u'):\n",
    "        return True\n",
    "    else:\n",
    "        return False"
   ]
  },
  {
   "cell_type": "code",
   "execution_count": null,
   "metadata": {},
   "outputs": [],
   "source": []
  }
 ],
 "metadata": {
  "kernelspec": {
   "display_name": "Python 3",
   "language": "python",
   "name": "python3"
  },
  "language_info": {
   "codemirror_mode": {
    "name": "ipython",
    "version": 3
   },
   "file_extension": ".py",
   "mimetype": "text/x-python",
   "name": "python",
   "nbconvert_exporter": "python",
   "pygments_lexer": "ipython3",
   "version": "3.7.6"
  }
 },
 "nbformat": 4,
 "nbformat_minor": 4
}
